{
 "cells": [
  {
   "cell_type": "markdown",
   "metadata": {},
   "source": [
    "### For Loops vs While Loops"
   ]
  },
  {
   "cell_type": "code",
   "execution_count": null,
   "metadata": {},
   "outputs": [],
   "source": [
    "#Task 1: Print numbers from 1 to 5\n",
    "#Task 2: Sum of first N numbers (User Input)\n",
    "#Task 3: Print even Number 1- 10\n",
    "#Task 4: Password Checker\n",
    "#Task 5: Reverse String"
   ]
  },
  {
   "cell_type": "code",
   "execution_count": 34,
   "metadata": {},
   "outputs": [
    {
     "name": "stdout",
     "output_type": "stream",
     "text": [
      "Apple\n",
      "Banana\n",
      "Mango\n"
     ]
    }
   ],
   "source": [
    "fruits = [\"Apple\", \"Banana\", \"Mango\"]\n",
    "\n",
    "for items in fruits:\n",
    "    print(items)"
   ]
  },
  {
   "cell_type": "code",
   "execution_count": null,
   "metadata": {},
   "outputs": [
    {
     "name": "stdout",
     "output_type": "stream",
     "text": [
      "Hello Welcome...\n",
      "Hello Welcome...\n",
      "Hello Welcome...\n",
      "Hello Welcome...\n",
      "Hello Welcome...\n"
     ]
    }
   ],
   "source": [
    "greeting = \"Hello Welcome...\"\n",
    "\n",
    "i = 1\n",
    "\n",
    "while i <= 5:\n",
    "    print(greeting)\n",
    "    i += 1"
   ]
  },
  {
   "cell_type": "code",
   "execution_count": 42,
   "metadata": {},
   "outputs": [
    {
     "name": "stdout",
     "output_type": "stream",
     "text": [
      "1\n",
      "2\n",
      "3\n",
      "4\n",
      "5\n"
     ]
    }
   ],
   "source": [
    "#Task 1: Print numbers from 1 to 5\n",
    "\n",
    "s = [1, 2, 3, 4, 5]\n",
    "\n",
    "# for\n",
    "for num in s:\n",
    "    print(num)"
   ]
  },
  {
   "cell_type": "code",
   "execution_count": 43,
   "metadata": {},
   "outputs": [
    {
     "name": "stdout",
     "output_type": "stream",
     "text": [
      "1\n",
      "2\n",
      "3\n",
      "4\n",
      "5\n"
     ]
    }
   ],
   "source": [
    "num = 1\n",
    "\n",
    "while num <= 5:\n",
    "    print(num)\n",
    "    \n",
    "    # increamental operator\n",
    "    num += 1"
   ]
  },
  {
   "cell_type": "code",
   "execution_count": null,
   "metadata": {},
   "outputs": [
    {
     "name": "stdout",
     "output_type": "stream",
     "text": [
      "36\n"
     ]
    }
   ],
   "source": [
    "#Task 2: Sum of first N numbers (User Input)\n",
    "\n",
    "#5\n",
    "\n",
    "n = int(input(\"please enter a number to get sum :\"))\n",
    "\n",
    "sum = 0\n",
    "\n",
    "for i in range(1, n+1):\n",
    "    \n",
    "    sum += i\n",
    "\n",
    "print(sum)"
   ]
  },
  {
   "cell_type": "code",
   "execution_count": 57,
   "metadata": {},
   "outputs": [
    {
     "name": "stdout",
     "output_type": "stream",
     "text": [
      "15\n"
     ]
    }
   ],
   "source": [
    "n = int(input(\"please enter a number to get sum :\"))\n",
    "sum = 0\n",
    "\n",
    "i = 1\n",
    "\n",
    "while i <= n:\n",
    "    sum +=  i\n",
    "\n",
    "    #increassing i value\n",
    "    i+= 1   \n",
    "    \n",
    "print(sum)"
   ]
  },
  {
   "cell_type": "code",
   "execution_count": null,
   "metadata": {},
   "outputs": [
    {
     "name": "stdout",
     "output_type": "stream",
     "text": [
      "2\n",
      "4\n",
      "6\n",
      "8\n",
      "10\n"
     ]
    }
   ],
   "source": [
    "#Task 3: Print even Number 1- 10\n",
    "\n",
    "\n",
    "# for loop\n",
    "\n",
    "# for i in range(1, 10+1):\n",
    "#     if i%2==0:\n",
    "#         print(i)\n",
    "\n",
    "for i in range(2, 10+1, 2):\n",
    "    # if i%2==0:\n",
    "    print(i)"
   ]
  },
  {
   "cell_type": "code",
   "execution_count": null,
   "metadata": {},
   "outputs": [
    {
     "name": "stdout",
     "output_type": "stream",
     "text": [
      "2\n",
      "4\n",
      "6\n",
      "8\n",
      "10\n"
     ]
    }
   ],
   "source": [
    "num = 2\n",
    "\n",
    "while num <= 10:\n",
    "    print(num)\n",
    "    \n",
    "    num += 2"
   ]
  },
  {
   "cell_type": "code",
   "execution_count": 64,
   "metadata": {},
   "outputs": [
    {
     "name": "stdout",
     "output_type": "stream",
     "text": [
      "Incorrect password try again\n",
      "Incorrect password try again\n",
      "Incorrect password try again\n",
      "Incorrect password try again\n",
      "Incorrect password try again\n"
     ]
    }
   ],
   "source": [
    "#Task 4: Password Checker\n",
    "\n",
    "user_password = 'cat123'\n",
    "\n",
    "password = input(\"Please enter password :\")\n",
    "\n",
    "attempts = 5\n",
    "\n",
    "for i in range(1, attempts+1):\n",
    "    \n",
    "    # print(i)\n",
    "    if password == user_password:\n",
    "        print(\"Correct password\")\n",
    "        break \n",
    "        \n",
    "    else:\n",
    "        print(\"Incorrect password try again\")\n",
    "        password = input(\"Please enter password :\")"
   ]
  },
  {
   "cell_type": "code",
   "execution_count": 1,
   "metadata": {},
   "outputs": [
    {
     "name": "stdout",
     "output_type": "stream",
     "text": [
      "Incorrect password try again\n",
      "Correct password\n"
     ]
    }
   ],
   "source": [
    "\n",
    "user_password = 'cat123'\n",
    "password = input(\"Please enter password :\")\n",
    "\n",
    "\n",
    "while password != user_password:\n",
    "    print(\"Incorrect password try again\")\n",
    "    password = input(\"Please enter password :\")\n",
    "    \n",
    "print(\"Correct password\")"
   ]
  },
  {
   "cell_type": "code",
   "execution_count": 9,
   "metadata": {},
   "outputs": [
    {
     "name": "stdout",
     "output_type": "stream",
     "text": [
      "g\n",
      "n\n",
      "i\n",
      "d\n",
      "o\n",
      "c\n",
      "gnidoc\n"
     ]
    }
   ],
   "source": [
    "#Task 5: Reverse String\n",
    "\n",
    "s = 'coding'\n",
    "\n",
    "reversed_string = ''\n",
    "\n",
    "index = len(s)   #6\n",
    "\n",
    "for i in range(1, index+1):\n",
    "    s[index - 1] \n",
    "    \n",
    "    print(s[index - 1] )\n",
    "    reversed_string += s[index - 1] \n",
    "    \n",
    "    index -=1\n",
    "    \n",
    "print(reversed_string)"
   ]
  },
  {
   "cell_type": "code",
   "execution_count": 10,
   "metadata": {},
   "outputs": [
    {
     "name": "stdout",
     "output_type": "stream",
     "text": [
      "g\n",
      "n\n",
      "i\n",
      "d\n",
      "o\n",
      "c\n",
      "g\n",
      "gnidocg\n"
     ]
    }
   ],
   "source": [
    "s = 'coding'\n",
    "reversed_string = ''\n",
    "index = len(s)   #6\n",
    "\n",
    "\n",
    "while  index >= 0:\n",
    "    s[index - 1] \n",
    "    \n",
    "    print(s[index - 1] )\n",
    "    reversed_string += s[index - 1] \n",
    "    \n",
    "    index -=1\n",
    "    \n",
    "print(reversed_string)"
   ]
  },
  {
   "cell_type": "code",
   "execution_count": null,
   "metadata": {},
   "outputs": [],
   "source": []
  }
 ],
 "metadata": {
  "kernelspec": {
   "display_name": "my_env_yt",
   "language": "python",
   "name": "python3"
  },
  "language_info": {
   "codemirror_mode": {
    "name": "ipython",
    "version": 3
   },
   "file_extension": ".py",
   "mimetype": "text/x-python",
   "name": "python",
   "nbconvert_exporter": "python",
   "pygments_lexer": "ipython3",
   "version": "3.12.6"
  }
 },
 "nbformat": 4,
 "nbformat_minor": 2
}
